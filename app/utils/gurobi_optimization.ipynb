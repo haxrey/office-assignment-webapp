{
  "cells": [
    {
      "cell_type": "code",
      "execution_count": 7,
      "metadata": {
        "colab": {
          "base_uri": "https://localhost:8080/"
        },
        "id": "PokLPkAbbYew",
        "outputId": "378bd0bc-9454-4ed5-d093-3e1b7a354597"
      },
      "outputs": [
        {
          "name": "stdout",
          "output_type": "stream",
          "text": [
            "Gurobi Optimizer version 11.0.1 build v11.0.1rc0 (linux64 - \"Ubuntu 22.04.3 LTS\")\n",
            "\n",
            "CPU model: Intel(R) Xeon(R) CPU @ 2.20GHz, instruction set [SSE2|AVX|AVX2]\n",
            "Thread count: 1 physical cores, 2 logical processors, using up to 2 threads\n",
            "\n",
            "Optimize a model with 7 rows, 12 columns and 24 nonzeros\n",
            "Model fingerprint: 0xbce3b5df\n",
            "Variable types: 0 continuous, 12 integer (12 binary)\n",
            "Coefficient statistics:\n",
            "  Matrix range     [1e+00, 1e+00]\n",
            "  Objective range  [2e+00, 5e+00]\n",
            "  Bounds range     [1e+00, 1e+00]\n",
            "  RHS range        [1e+00, 2e+00]\n",
            "Found heuristic solution: objective 16.0000000\n",
            "Presolve time: 0.00s\n",
            "Presolved: 7 rows, 12 columns, 24 nonzeros\n",
            "Variable types: 0 continuous, 12 integer (12 binary)\n",
            "Found heuristic solution: objective 17.0000000\n",
            "\n",
            "Root relaxation: objective 1.800000e+01, 7 iterations, 0.00 seconds (0.00 work units)\n",
            "\n",
            "    Nodes    |    Current Node    |     Objective Bounds      |     Work\n",
            " Expl Unexpl |  Obj  Depth IntInf | Incumbent    BestBd   Gap | It/Node Time\n",
            "\n",
            "*    0     0               0      18.0000000   18.00000  0.00%     -    0s\n",
            "\n",
            "Explored 1 nodes (7 simplex iterations) in 0.03 seconds (0.00 work units)\n",
            "Thread count was 2 (of 2 available processors)\n",
            "\n",
            "Solution count 3: 18 17 16 \n",
            "\n",
            "Optimal solution found (tolerance 1.00e-04)\n",
            "Best objective 1.800000000000e+01, best bound 1.800000000000e+01, gap 0.0000%\n",
            "Optimal office assignments:\n",
            "Alice is assigned to Office1\n",
            "Bob is assigned to Office3\n",
            "Charlie is assigned to Office1\n",
            "David is assigned to Office2\n"
          ]
        }
      ],
      "source": [
        "import gurobipy as gp\n",
        "from gurobipy import GRB\n",
        "import pandas as pd\n",
        "\n",
        "# Read data from CSV file\n",
        "data = pd.read_csv('/content/data.csv', index_col=0)\n",
        "\n",
        "# Extract employee preferences and office capacities\n",
        "employees = list(data.index[:-1])  # Exclude the last row which is 'Capacities'\n",
        "offices = list(data.columns)\n",
        "preferences = {employee: data.loc[employee].to_dict() for employee in employees}\n",
        "capacities = data.loc['Capacities'].to_dict()\n",
        "\n",
        "# Create a Gurobi model\n",
        "model = gp.Model('EmployeeOfficeAssignment')\n",
        "\n",
        "# Decision variables\n",
        "assignment = {}\n",
        "for employee in employees:\n",
        "    for office in offices:\n",
        "        assignment[employee, office] = model.addVar(vtype=GRB.BINARY, name=f'Assign_{employee}_{office}')\n",
        "\n",
        "# Objective function: maximize satisfaction\n",
        "model.setObjective(gp.quicksum(preferences[employee][office] * assignment[employee, office]\n",
        "                                for employee in employees for office in offices), GRB.MAXIMIZE)\n",
        "\n",
        "# Constraints: each employee is assigned to exactly one office\n",
        "for employee in employees:\n",
        "    model.addConstr(gp.quicksum(assignment[employee, office] for office in offices) == 1)\n",
        "\n",
        "# Constraints: office capacities\n",
        "for office in offices:\n",
        "    model.addConstr(gp.quicksum(assignment[employee, office] for employee in employees) <= capacities[office])\n",
        "\n",
        "# Optimize the model\n",
        "model.optimize()\n",
        "\n",
        "# Print the optimal solution\n",
        "print('Optimal office assignments:')\n",
        "for employee in employees:\n",
        "    for office in offices:\n",
        "        if assignment[employee, office].x > 0.5:\n",
        "            print(f'{employee} is assigned to {office}')\n"
      ]
    }
  ],
  "metadata": {
    "colab": {
      "provenance": []
    },
    "kernelspec": {
      "display_name": "Python 3",
      "name": "python3"
    },
    "language_info": {
      "codemirror_mode": {
        "name": "ipython",
        "version": 3
      },
      "file_extension": ".py",
      "mimetype": "text/x-python",
      "name": "python",
      "nbconvert_exporter": "python",
      "pygments_lexer": "ipython3",
      "version": "3.11.4"
    }
  },
  "nbformat": 4,
  "nbformat_minor": 0
}
